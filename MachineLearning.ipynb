{
 "cells": [
  {
   "cell_type": "code",
   "execution_count": null,
   "id": "initial_id",
   "metadata": {
    "collapsed": true
   },
   "outputs": [],
   "source": [
    "import pandas as pd\n",
    "import numpy as np\n",
    "import sqlalchemy import create_engine\n",
    "from sqlalchemy.orm import sessionmaker\n"
   ]
  },
  {
   "metadata": {},
   "cell_type": "code",
   "outputs": [],
   "execution_count": null,
   "source": [
    "#Check's for PostgreSQL.py configuration file, if non, it will generate one.\n",
    "#NOTICE -- Please configure API/PostgreSQL.py before running all code. Ensure it is added to 'gitignore' before running code and pushing to the repository\n",
    "#ADDITIONALLY -- If the strings get renamed, simply delete 'PostgreSQL.py' and re-run this code.\n",
    "# This code was grabbed from previous projects\n",
    "sqlconfig = os.path.join(\"API\",\"PostgreSQL.py\")\n",
    "\n",
    "if not os.path.exists(sqlconfig):\n",
    "    with open(sqlconfig, 'w') as file:\n",
    "        file.write(\"connectionString = ''\")\n",
    "    print(f\"Configuration file has been created, please configure, restart kernel and try again.\")\n",
    "else:\n",
    "    print(f\"Configuration file already exists, importing...\")\n",
    "    \n",
    "from API.PostgreSQL import *"
   ],
   "id": "992be43fa7de0d8a"
  },
  {
   "metadata": {},
   "cell_type": "code",
   "outputs": [],
   "execution_count": null,
   "source": "# Load data from the SQL server\n",
   "id": "79a5ca71026d5b69"
  }
 ],
 "metadata": {
  "kernelspec": {
   "display_name": "Python 3",
   "language": "python",
   "name": "python3"
  },
  "language_info": {
   "codemirror_mode": {
    "name": "ipython",
    "version": 2
   },
   "file_extension": ".py",
   "mimetype": "text/x-python",
   "name": "python",
   "nbconvert_exporter": "python",
   "pygments_lexer": "ipython2",
   "version": "2.7.6"
  }
 },
 "nbformat": 4,
 "nbformat_minor": 5
}
