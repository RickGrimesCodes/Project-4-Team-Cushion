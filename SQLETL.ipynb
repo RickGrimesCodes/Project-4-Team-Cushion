{
 "cells": [
  {
   "cell_type": "code",
   "id": "initial_id",
   "metadata": {
    "collapsed": true,
    "ExecuteTime": {
     "end_time": "2024-09-05T21:48:26.100038Z",
     "start_time": "2024-09-05T21:48:25.361466Z"
    }
   },
   "source": [
    "import os\n",
    "import kaggle\n",
    "import sqlalchemy\n",
    "import pandas as pd"
   ],
   "outputs": [],
   "execution_count": 1
  },
  {
   "metadata": {
    "ExecuteTime": {
     "end_time": "2024-09-05T21:48:27.000982Z",
     "start_time": "2024-09-05T21:48:26.994681Z"
    }
   },
   "cell_type": "code",
   "source": [
    "#Check's for PostgreSQL.py configuration file, if non, it will generate one.\n",
    "#NOTICE -- Please configure API/PostgreSQL.py before running all code. Ensure it is added to 'gitignore' before running code and pushing to the repository\n",
    "#ADDITIONALLY -- If the strings get renamed, simply delete 'PostgreSQL.py' and re-run this code.\n",
    "# This code was grabbed from previous projects\n",
    "sqlconfig = os.path.join(\"API\",\"PostgreSQL.py\")\n",
    "\n",
    "if not os.path.exists(sqlconfig):\n",
    "    with open(sqlconfig, 'w') as file:\n",
    "        file.write(\"connectionString = ''\\nconnectionStringLocal = ''\\nuser = ''\\npassword = ''\\nhost = ''\\nport = ''\")\n",
    "    print(f\"Configuration file has been created\")\n",
    "else:\n",
    "    print(f\"Configuration file already exists, importing...\")\n",
    "    \n",
    "from API.PostgreSQL import *"
   ],
   "id": "2a0f85af3b133857",
   "outputs": [
    {
     "name": "stdout",
     "output_type": "stream",
     "text": [
      "Configuration file already exists, importing...\n"
     ]
    }
   ],
   "execution_count": 2
  },
  {
   "metadata": {
    "ExecuteTime": {
     "end_time": "2024-09-05T21:48:34.974377Z",
     "start_time": "2024-09-05T21:48:34.970480Z"
    }
   },
   "cell_type": "code",
   "source": [
    "# Kaggle API key import\n",
    "APIPATH = os.path.abspath(os.path.join(os.getcwd(), 'API'))\n",
    "os.environ['KAGGLE_CONFIG_DIR'] = APIPATH"
   ],
   "id": "f35998a48df4e527",
   "outputs": [],
   "execution_count": 3
  },
  {
   "metadata": {
    "ExecuteTime": {
     "end_time": "2024-09-05T21:51:03.440386Z",
     "start_time": "2024-09-05T21:51:03.432704Z"
    }
   },
   "cell_type": "code",
   "source": [
    "# Downloading data from Kaggle\n",
    "# Check directory for if statement to see if data has already been downloaded\n",
    "# Be sure the Kaggle API key is in your API directory for this repository\n",
    "# NOTICE -- This is reused code from project 3\n",
    "checkfordata = os.path.join(\"..\",\"RawData\",\"winequality-red.csv\")\n",
    "# This if loop will check to see if the data has been download, if not it will download and import, if so it will simply import\n",
    "if not os.path.exists(checkfordata):\n",
    "    downloadPath = os.path.abspath(os.path.join(os.getcwd(), 'RawData'))\n",
    "    kaggle.api.dataset_download_files('uciml/red-wine-quality-cortez-et-al-2009', path=downloadPath, unzip=True)\n",
    "    \n",
    "    print(f\"Downloaded dataset, proceeding to import...\")\n",
    "    # Loading the data into a data frame\n",
    "    wineCSV = os.path.join('RawData','winequality-red.csv')\n",
    "    SteamGamesRaw = pd.read_csv(wineCSV)\n",
    "    print(f\"Dataset has been downloaded and imported!\")\n",
    "else:\n",
    "    print(f\"Dataset already exists, importing...\")\n",
    "    # Loading the data into a data frame\n",
    "    wineCSV = os.path.join('RawData','winequality-red.csv')\n",
    "    wineDataRaw = pd.read_csv(wineCSV)\n",
    "    print(f\"Dataset has been imported!\")"
   ],
   "id": "388f687fb626b8da",
   "outputs": [
    {
     "name": "stdout",
     "output_type": "stream",
     "text": [
      "Dataset already exists, importing...\n",
      "Dataset has been imported!\n"
     ]
    }
   ],
   "execution_count": 6
  },
  {
   "metadata": {
    "ExecuteTime": {
     "end_time": "2024-09-05T21:51:35.279123Z",
     "start_time": "2024-09-05T21:51:35.273832Z"
    }
   },
   "cell_type": "code",
   "source": [
    "# Checking D-types\n",
    "wineDataRaw.dtypes"
   ],
   "id": "65d927ba07744edd",
   "outputs": [
    {
     "data": {
      "text/plain": [
       "fixed acidity           float64\n",
       "volatile acidity        float64\n",
       "citric acid             float64\n",
       "residual sugar          float64\n",
       "chlorides               float64\n",
       "free sulfur dioxide     float64\n",
       "total sulfur dioxide    float64\n",
       "density                 float64\n",
       "pH                      float64\n",
       "sulphates               float64\n",
       "alcohol                 float64\n",
       "quality                   int64\n",
       "dtype: object"
      ]
     },
     "execution_count": 7,
     "metadata": {},
     "output_type": "execute_result"
    }
   ],
   "execution_count": 7
  },
  {
   "metadata": {},
   "cell_type": "code",
   "outputs": [],
   "execution_count": null,
   "source": "# Good enough",
   "id": "40ddb464c39690a8"
  },
  {
   "metadata": {
    "ExecuteTime": {
     "end_time": "2024-09-05T22:35:28.981329Z",
     "start_time": "2024-09-05T22:35:27.121840Z"
    }
   },
   "cell_type": "code",
   "source": [
    "# import into Neon\n",
    "# Starting PosgreSQL import \n",
    "# NOTICE -- BE SURE TO CONFIGURE 'PostgreSQL.py' BEFORE CONTINUING\n",
    "# NOTICE -- This is reused code from project 3\n",
    "import psycopg2\n",
    "from psycopg2 import Error\n",
    "from sqlalchemy import create_engine\n",
    "\n",
    "# Create a database connection\n",
    "engine = create_engine(connectionString)\n",
    "# Create a local database connection\n",
    "#engine = create_engine(connectionStringLocal)\n",
    "# Create a table in the database\n",
    "wineDataRaw.to_sql('RedWineData', engine, if_exists='replace', index=False)"
   ],
   "id": "182219c52aea65be",
   "outputs": [
    {
     "data": {
      "text/plain": [
       "599"
      ]
     },
     "execution_count": 8,
     "metadata": {},
     "output_type": "execute_result"
    }
   ],
   "execution_count": 8
  },
  {
   "metadata": {},
   "cell_type": "code",
   "outputs": [],
   "execution_count": null,
   "source": "",
   "id": "4d41d039dabaab71"
  }
 ],
 "metadata": {
  "kernelspec": {
   "display_name": "Python 3",
   "language": "python",
   "name": "python3"
  },
  "language_info": {
   "codemirror_mode": {
    "name": "ipython",
    "version": 2
   },
   "file_extension": ".py",
   "mimetype": "text/x-python",
   "name": "python",
   "nbconvert_exporter": "python",
   "pygments_lexer": "ipython2",
   "version": "2.7.6"
  }
 },
 "nbformat": 4,
 "nbformat_minor": 5
}
