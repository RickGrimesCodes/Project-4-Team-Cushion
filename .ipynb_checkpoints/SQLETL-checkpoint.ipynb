{
 "cells": [
  {
   "cell_type": "code",
   "execution_count": 1,
   "id": "initial_id",
   "metadata": {
    "ExecuteTime": {
     "end_time": "2024-09-05T21:48:26.100038Z",
     "start_time": "2024-09-05T21:48:25.361466Z"
    },
    "collapsed": true
   },
   "outputs": [],
   "source": [
    "import os\n",
    "import kaggle\n",
    "import sqlalchemy\n",
    "import pandas as pd"
   ]
  },
  {
   "cell_type": "code",
   "execution_count": 2,
   "id": "2a0f85af3b133857",
   "metadata": {
    "ExecuteTime": {
     "end_time": "2024-09-05T21:48:27.000982Z",
     "start_time": "2024-09-05T21:48:26.994681Z"
    }
   },
   "outputs": [
    {
     "name": "stdout",
     "output_type": "stream",
     "text": [
      "Configuration file already exists, importing...\n"
     ]
    }
   ],
   "source": [
    "#Check's for PostgreSQL.py configuration file, if non, it will generate one.\n",
    "#NOTICE -- Please configure API/PostgreSQL.py before running all code. Ensure it is added to 'gitignore' before running code and pushing to the repository\n",
    "#ADDITIONALLY -- If the strings get renamed, simply delete 'PostgreSQL.py' and re-run this code.\n",
    "# This code was grabbed from previous projects\n",
    "sqlconfig = os.path.join(\"API\",\"PostgreSQL.py\")\n",
    "\n",
    "if not os.path.exists(sqlconfig):\n",
    "    with open(sqlconfig, 'w') as file:\n",
    "        file.write(\"connectionString = ''\")\n",
    "    print(f\"Configuration file has been created, please configure, restart kernel and try again.\")\n",
    "else:\n",
    "    print(f\"Configuration file already exists, importing...\")\n",
    "    \n",
    "from API.PostgreSQL import *"
   ]
  },
  {
   "cell_type": "code",
   "execution_count": 3,
   "id": "f35998a48df4e527",
   "metadata": {
    "ExecuteTime": {
     "end_time": "2024-09-05T21:48:34.974377Z",
     "start_time": "2024-09-05T21:48:34.970480Z"
    }
   },
   "outputs": [],
   "source": [
    "# Kaggle API key import\n",
    "APIPATH = os.path.abspath(os.path.join(os.getcwd(), 'API'))\n",
    "os.environ['KAGGLE_CONFIG_DIR'] = APIPATH"
   ]
  },
  {
   "cell_type": "code",
   "execution_count": 6,
   "id": "388f687fb626b8da",
   "metadata": {
    "ExecuteTime": {
     "end_time": "2024-09-05T21:51:03.440386Z",
     "start_time": "2024-09-05T21:51:03.432704Z"
    }
   },
   "outputs": [
    {
     "name": "stdout",
     "output_type": "stream",
     "text": [
      "Dataset already exists, importing...\n",
      "Dataset has been imported!\n"
     ]
    }
   ],
   "source": [
    "# Downloading data from Kaggle\n",
    "# Check directory for if statement to see if data has already been downloaded\n",
    "# Be sure the Kaggle API key is in your API directory for this repository\n",
    "# NOTICE -- This is reused code from project 3\n",
    "checkfordata = os.path.join(\"..\",\"RawData\",\"winequality-red.csv\")\n",
    "# This if loop will check to see if the data has been download, if not it will download and import, if so it will simply import\n",
    "if not os.path.exists(checkfordata):\n",
    "    downloadPath = os.path.abspath(os.path.join(os.getcwd(), 'RawData'))\n",
    "    kaggle.api.dataset_download_files('uciml/red-wine-quality-cortez-et-al-2009', path=downloadPath, unzip=True)\n",
    "    \n",
    "    print(f\"Downloaded dataset, proceeding to import...\")\n",
    "    # Loading the data into a data frame\n",
    "    wineCSV = os.path.join('RawData','winequality-red.csv')\n",
    "    SteamGamesRaw = pd.read_csv(wineCSV)\n",
    "    print(f\"Dataset has been downloaded and imported!\")\n",
    "else:\n",
    "    print(f\"Dataset already exists, importing...\")\n",
    "    # Loading the data into a data frame\n",
    "    wineCSV = os.path.join('RawData','winequality-red.csv')\n",
    "    wineDataRaw = pd.read_csv(wineCSV)\n",
    "    print(f\"Dataset has been imported!\")"
   ]
  },
  {
   "cell_type": "code",
   "execution_count": 7,
   "id": "65d927ba07744edd",
   "metadata": {
    "ExecuteTime": {
     "end_time": "2024-09-05T21:51:35.279123Z",
     "start_time": "2024-09-05T21:51:35.273832Z"
    }
   },
   "outputs": [
    {
     "data": {
      "text/plain": [
       "fixed acidity           float64\n",
       "volatile acidity        float64\n",
       "citric acid             float64\n",
       "residual sugar          float64\n",
       "chlorides               float64\n",
       "free sulfur dioxide     float64\n",
       "total sulfur dioxide    float64\n",
       "density                 float64\n",
       "pH                      float64\n",
       "sulphates               float64\n",
       "alcohol                 float64\n",
       "quality                   int64\n",
       "dtype: object"
      ]
     },
     "execution_count": 7,
     "metadata": {},
     "output_type": "execute_result"
    }
   ],
   "source": [
    "# Checking D-types\n",
    "wineDataRaw.dtypes"
   ]
  },
  {
   "cell_type": "code",
   "execution_count": null,
   "id": "40ddb464c39690a8",
   "metadata": {},
   "outputs": [],
   "source": [
    "# Good enough"
   ]
  },
  {
   "cell_type": "code",
   "execution_count": 8,
   "id": "182219c52aea65be",
   "metadata": {
    "ExecuteTime": {
     "end_time": "2024-09-05T22:35:28.981329Z",
     "start_time": "2024-09-05T22:35:27.121840Z"
    }
   },
   "outputs": [
    {
     "data": {
      "text/plain": [
       "599"
      ]
     },
     "execution_count": 8,
     "metadata": {},
     "output_type": "execute_result"
    }
   ],
   "source": [
    "# import into Neon\n",
    "# Starting PosgreSQL import \n",
    "# NOTICE -- BE SURE TO CONFIGURE 'PostgreSQL.py' BEFORE CONTINUING\n",
    "# NOTICE -- This is reused code from project 3\n",
    "import psycopg2\n",
    "from psycopg2 import Error\n",
    "from sqlalchemy import create_engine\n",
    "\n",
    "# Create a database connection\n",
    "engine = create_engine(connectionString)\n",
    "# Create a local database connection\n",
    "#engine = create_engine(connectionStringLocal)\n",
    "# Create a table in the database\n",
    "wineDataRaw.to_sql('RedWineData', engine, if_exists='replace', index=False)"
   ]
  },
  {
   "cell_type": "code",
   "execution_count": null,
   "id": "4d41d039dabaab71",
   "metadata": {},
   "outputs": [],
   "source": []
  }
 ],
 "metadata": {
  "kernelspec": {
   "display_name": "Python 3 (ipykernel)",
   "language": "python",
   "name": "python3"
  },
  "language_info": {
   "codemirror_mode": {
    "name": "ipython",
    "version": 3
   },
   "file_extension": ".py",
   "mimetype": "text/x-python",
   "name": "python",
   "nbconvert_exporter": "python",
   "pygments_lexer": "ipython3",
   "version": "3.11.7"
  }
 },
 "nbformat": 4,
 "nbformat_minor": 5
}
